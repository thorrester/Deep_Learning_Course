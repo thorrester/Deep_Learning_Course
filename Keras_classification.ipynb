{
 "cells": [
  {
   "cell_type": "code",
   "execution_count": 24,
   "metadata": {
    "collapsed": true
   },
   "outputs": [],
   "source": [
    "import numpy as np\n",
    "from keras import layers\n",
    "from keras.layers import Input, Dense, Activation, ZeroPadding2D, BatchNormalization, Flatten, Conv2D\n",
    "from keras.layers import AveragePooling2D, MaxPooling2D, Dropout, GlobalMaxPooling2D, GlobalAveragePooling2D\n",
    "from keras.models import Model\n",
    "from keras.preprocessing import image\n",
    "from keras.utils import layer_utils\n",
    "from keras.utils.data_utils import get_file\n",
    "from keras.applications.imagenet_utils import preprocess_input\n",
    "import pydot\n",
    "from IPython.display import SVG\n",
    "from keras.utils.vis_utils import model_to_dot\n",
    "from keras.utils import plot_model\n",
    "from kt_utils import *\n",
    "\n",
    "import keras.backend as K\n",
    "K.set_image_data_format('channels_last')\n",
    "import matplotlib.pyplot as plt\n",
    "from matplotlib.pyplot import imshow\n",
    "\n",
    "%matplotlib inline"
   ]
  },
  {
   "cell_type": "code",
   "execution_count": 25,
   "metadata": {},
   "outputs": [
    {
     "name": "stdout",
     "output_type": "stream",
     "text": [
      "number of training examples = 600\n",
      "number of test examples = 150\n",
      "X_train shape: (600, 64, 64, 3)\n",
      "Y_train shape: (600, 1)\n",
      "X_test shape: (150, 64, 64, 3)\n",
      "Y_test shape: (150, 1)\n"
     ]
    }
   ],
   "source": [
    "X_train_orig, Y_train_orig, X_test_orig, Y_test_orig, classes = load_dataset()\n",
    "\n",
    "# Normalize image vectors\n",
    "X_train = X_train_orig/255.\n",
    "X_test = X_test_orig/255.\n",
    "\n",
    "# Reshape\n",
    "Y_train = Y_train_orig.T\n",
    "Y_test = Y_test_orig.T\n",
    "\n",
    "print (\"number of training examples = \" + str(X_train.shape[0]))\n",
    "print (\"number of test examples = \" + str(X_test.shape[0]))\n",
    "print (\"X_train shape: \" + str(X_train.shape))\n",
    "print (\"Y_train shape: \" + str(Y_train.shape))\n",
    "print (\"X_test shape: \" + str(X_test.shape))\n",
    "print (\"Y_test shape: \" + str(Y_test.shape))"
   ]
  },
  {
   "cell_type": "code",
   "execution_count": 26,
   "metadata": {
    "collapsed": true
   },
   "outputs": [],
   "source": [
    "#HappyModel\n",
    "\n",
    "def HappyModel(input_shape):\n",
    "    \"\"\"\n",
    "    Implementation of the HappyModel.\n",
    "    \n",
    "    Arguments:\n",
    "    input_shape -- shape of the images of the dataset\n",
    "\n",
    "    Returns:\n",
    "    model -- a Model() instance in Keras\n",
    "    \"\"\"\n",
    "    \n",
    "    ### START CODE HERE ###\n",
    "    # Feel free to use the suggested outline in the text above to get started, and run through the whole\n",
    "    # exercise (including the later portions of this notebook) once. The come back also try out other\n",
    "    # network architectures as well. \n",
    "    # Define the input placeholder as a tensor with shape input_shape. Think of this as your input image!\n",
    "    X_input = Input(input_shape)\n",
    "\n",
    "    # Zero-Padding: pads the border of X_input with zeroes\n",
    "    X = ZeroPadding2D((3, 3))(X_input)\n",
    "\n",
    "    # CONV -> BN -> RELU Block applied to X\n",
    "    X = Conv2D(32, (7, 7), strides = (1, 1), name = 'conv0')(X)\n",
    "    X = BatchNormalization(axis = 3, name = 'bn0')(X)\n",
    "    X = Activation('relu')(X)\n",
    "\n",
    "    # MAXPOOL\n",
    "    X = MaxPooling2D((2, 2), name='max_pool')(X)\n",
    "\n",
    "    # FLATTEN X (means convert it to a vector) + FULLYCONNECTED\n",
    "    X = Flatten()(X)\n",
    "    X = Dense(1, activation='sigmoid', name='fc')(X)\n",
    "\n",
    "    # Create model. This creates your Keras model instance, you'll use this instance to train/test the model.\n",
    "    model = Model(inputs = X_input, outputs = X, name='HappyModel')\n",
    "    \n",
    "    \n",
    "    ### END CODE HERE ###\n",
    "    \n",
    "    return model"
   ]
  },
  {
   "cell_type": "code",
   "execution_count": 28,
   "metadata": {
    "collapsed": true
   },
   "outputs": [],
   "source": [
    "happyModel = HappyModel((64,64,3))"
   ]
  },
  {
   "cell_type": "code",
   "execution_count": 29,
   "metadata": {
    "collapsed": true
   },
   "outputs": [],
   "source": [
    "happyModel.compile(optimizer='Adam', loss='binary_crossentropy', metrics=['accuracy'])"
   ]
  },
  {
   "cell_type": "code",
   "execution_count": 30,
   "metadata": {},
   "outputs": [
    {
     "name": "stdout",
     "output_type": "stream",
     "text": [
      "Epoch 1/40\n",
      "600/600 [==============================] - 12s - loss: 1.1159 - acc: 0.7200    \n",
      "Epoch 2/40\n",
      "600/600 [==============================] - 12s - loss: 0.2005 - acc: 0.9167    \n",
      "Epoch 3/40\n",
      "600/600 [==============================] - 12s - loss: 0.2173 - acc: 0.9117    \n",
      "Epoch 4/40\n",
      "600/600 [==============================] - 12s - loss: 0.1943 - acc: 0.9167    \n",
      "Epoch 5/40\n",
      "600/600 [==============================] - 12s - loss: 0.1499 - acc: 0.9500    \n",
      "Epoch 6/40\n",
      "600/600 [==============================] - 12s - loss: 0.1026 - acc: 0.9750    \n",
      "Epoch 7/40\n",
      "600/600 [==============================] - 12s - loss: 0.0684 - acc: 0.9783    \n",
      "Epoch 8/40\n",
      "600/600 [==============================] - 12s - loss: 0.0697 - acc: 0.9883    \n",
      "Epoch 9/40\n",
      "600/600 [==============================] - 12s - loss: 0.1138 - acc: 0.9500    \n",
      "Epoch 10/40\n",
      "600/600 [==============================] - 12s - loss: 0.0757 - acc: 0.9700    \n",
      "Epoch 11/40\n",
      "600/600 [==============================] - 12s - loss: 0.0920 - acc: 0.9650    \n",
      "Epoch 12/40\n",
      "600/600 [==============================] - 12s - loss: 0.0587 - acc: 0.9783    \n",
      "Epoch 13/40\n",
      "600/600 [==============================] - 12s - loss: 0.1641 - acc: 0.9400    \n",
      "Epoch 14/40\n",
      "600/600 [==============================] - 12s - loss: 0.1272 - acc: 0.9617    \n",
      "Epoch 15/40\n",
      "600/600 [==============================] - 12s - loss: 0.0854 - acc: 0.9767    \n",
      "Epoch 16/40\n",
      "600/600 [==============================] - 12s - loss: 0.0912 - acc: 0.9800    \n",
      "Epoch 17/40\n",
      "600/600 [==============================] - 12s - loss: 0.0441 - acc: 0.9817    \n",
      "Epoch 18/40\n",
      "600/600 [==============================] - 12s - loss: 0.0331 - acc: 0.9917    \n",
      "Epoch 19/40\n",
      "600/600 [==============================] - 12s - loss: 0.1035 - acc: 0.9600    \n",
      "Epoch 20/40\n",
      "600/600 [==============================] - 12s - loss: 0.0926 - acc: 0.9667    \n",
      "Epoch 21/40\n",
      "600/600 [==============================] - 12s - loss: 0.0828 - acc: 0.9717    \n",
      "Epoch 22/40\n",
      "600/600 [==============================] - 12s - loss: 0.0264 - acc: 0.9917    \n",
      "Epoch 23/40\n",
      "600/600 [==============================] - 12s - loss: 0.0788 - acc: 0.9750    \n",
      "Epoch 24/40\n",
      "600/600 [==============================] - 12s - loss: 0.0717 - acc: 0.9800    \n",
      "Epoch 25/40\n",
      "600/600 [==============================] - 12s - loss: 0.0532 - acc: 0.9817    \n",
      "Epoch 26/40\n",
      "600/600 [==============================] - 12s - loss: 0.0584 - acc: 0.9833    \n",
      "Epoch 27/40\n",
      "600/600 [==============================] - 12s - loss: 0.0233 - acc: 0.9917    \n",
      "Epoch 28/40\n",
      "600/600 [==============================] - 12s - loss: 0.0300 - acc: 0.9917    \n",
      "Epoch 29/40\n",
      "600/600 [==============================] - 12s - loss: 0.0338 - acc: 0.9833    \n",
      "Epoch 30/40\n",
      "600/600 [==============================] - 12s - loss: 0.0524 - acc: 0.9883    \n",
      "Epoch 31/40\n",
      "600/600 [==============================] - 12s - loss: 0.0689 - acc: 0.9733    \n",
      "Epoch 32/40\n",
      "600/600 [==============================] - 12s - loss: 0.0501 - acc: 0.9850    \n",
      "Epoch 33/40\n",
      "600/600 [==============================] - 12s - loss: 0.0631 - acc: 0.9750    \n",
      "Epoch 34/40\n",
      "600/600 [==============================] - 12s - loss: 0.0698 - acc: 0.9800    \n",
      "Epoch 35/40\n",
      "600/600 [==============================] - 12s - loss: 0.0453 - acc: 0.9883    \n",
      "Epoch 36/40\n",
      "600/600 [==============================] - 12s - loss: 0.0744 - acc: 0.9767    \n",
      "Epoch 37/40\n",
      "600/600 [==============================] - 12s - loss: 0.0256 - acc: 0.9933    \n",
      "Epoch 38/40\n",
      "600/600 [==============================] - 13s - loss: 0.0287 - acc: 0.9950    \n",
      "Epoch 39/40\n",
      "600/600 [==============================] - 13s - loss: 0.0089 - acc: 0.9967    \n",
      "Epoch 40/40\n",
      "600/600 [==============================] - 12s - loss: 0.0150 - acc: 0.9967    \n"
     ]
    },
    {
     "data": {
      "text/plain": [
       "<keras.callbacks.History at 0x7fcb6e6bba20>"
      ]
     },
     "execution_count": 30,
     "metadata": {},
     "output_type": "execute_result"
    }
   ],
   "source": [
    "happyModel.fit(X_train, Y_train, epochs= 40, batch_size=16)"
   ]
  },
  {
   "cell_type": "code",
   "execution_count": 31,
   "metadata": {
    "scrolled": true
   },
   "outputs": [
    {
     "name": "stdout",
     "output_type": "stream",
     "text": [
      "150/150 [==============================] - 1s     \n",
      "\n",
      "Loss = 0.21333749642\n",
      "Test Accuracy = 0.933333330949\n"
     ]
    }
   ],
   "source": [
    "preds = happyModel.evaluate(X_test, Y_test)\n",
    "print()\n",
    "print (\"Loss = \" + str(preds[0]))\n",
    "print (\"Test Accuracy = \" + str(preds[1]))"
   ]
  }
 ],
 "metadata": {
  "kernelspec": {
   "display_name": "Python 3",
   "language": "python",
   "name": "python3"
  },
  "language_info": {
   "codemirror_mode": {
    "name": "ipython",
    "version": 3
   },
   "file_extension": ".py",
   "mimetype": "text/x-python",
   "name": "python",
   "nbconvert_exporter": "python",
   "pygments_lexer": "ipython3",
   "version": "3.6.0"
  }
 },
 "nbformat": 4,
 "nbformat_minor": 2
}
